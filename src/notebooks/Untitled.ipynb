{
 "cells": [
  {
   "cell_type": "code",
   "execution_count": 2,
   "id": "d6450d46-c705-4b36-85c7-b21e21a705ac",
   "metadata": {},
   "outputs": [],
   "source": [
    "from deepface import DeepFace as _DeepFace\n",
    "import os as _os\n",
    "import copy as _copy\n",
    "from itertools import combinations\n",
    "import matplotlib.pyplot as _plt"
   ]
  },
  {
   "cell_type": "markdown",
   "id": "cf2349cb-f85a-4194-877b-63ab2df28e2a",
   "metadata": {},
   "source": [
    "### Test deepface functions"
   ]
  },
  {
   "cell_type": "code",
   "execution_count": 3,
   "id": "52d07249-be65-4e76-84c3-2c8f146ca782",
   "metadata": {},
   "outputs": [
    {
     "name": "stdout",
     "output_type": "stream",
     "text": [
      "1/1 [==============================] - 0s 380ms/step\n",
      "1/1 [==============================] - 0s 149ms/step\n",
      "{'verified': True, 'distance': 0.2838611636154268, 'threshold': 0.4, 'model': 'VGG-Face', 'detector_backend': 'opencv', 'similarity_metric': 'cosine'}\n"
     ]
    }
   ],
   "source": [
    "# verify \n",
    "obj = _DeepFace.verify(\"../../data/DigiFace/subjects_0-1999_72_imgs/0/0.png\",\n",
    "                       \"../../data/DigiFace/subjects_0-1999_72_imgs/0/1.png\",\n",
    "                       enforce_detection=False,prog_bar=False);\n",
    "print(obj)"
   ]
  },
  {
   "cell_type": "code",
   "execution_count": 4,
   "id": "0a7a68ce-bc17-449d-9ab5-92245111c62b",
   "metadata": {},
   "outputs": [
    {
     "name": "stdout",
     "output_type": "stream",
     "text": [
      "1/1 [==============================] - 0s 157ms/step\n"
     ]
    }
   ],
   "source": [
    "# embeddings\n",
    "embedding = _DeepFace.represent(img_path = \"../../data/DigiFace/subjects_0-1999_72_imgs/0/0.png\")"
   ]
  },
  {
   "cell_type": "code",
   "execution_count": 5,
   "id": "0076e0a4-2b49-44d6-9d8d-e42592ef0c45",
   "metadata": {},
   "outputs": [
    {
     "name": "stdout",
     "output_type": "stream",
     "text": [
      "1/1 [==============================] - 0s 282ms/step\n",
      "1/1 [==============================] - 0s 321ms/step\n",
      "1/1 [==============================] - 0s 275ms/step\n",
      "1/1 [==============================] - 0s 80ms/step\n",
      "{'age': 29, 'region': {'x': 11, 'y': 18, 'w': 89, 'h': 89}, 'gender': 'Man', 'race': {'asian': 9.30183008313179, 'indian': 6.115013360977173, 'black': 2.5921599939465523, 'white': 38.2030189037323, 'middle eastern': 18.679198622703552, 'latino hispanic': 25.108778476715088}, 'dominant_race': 'white', 'emotion': {'angry': 0.052500294987112284, 'disgust': 9.521839046400249e-10, 'fear': 0.0015692066881456412, 'happy': 2.2591797876891917e-08, 'sad': 0.7717558648437262, 'surprise': 1.0274273876120787e-06, 'neutral': 99.17417764663696}, 'dominant_emotion': 'neutral'}\n"
     ]
    }
   ],
   "source": [
    "# analysis\n",
    "obj = _DeepFace.analyze(img_path = \"../../data/DigiFace/subjects_0-1999_72_imgs/0/0.png\", \n",
    "                        actions = ['age', 'gender', 'race', 'emotion'],\n",
    "                        prog_bar=False\n",
    ")\n",
    "print(obj)"
   ]
  },
  {
   "cell_type": "code",
   "execution_count": 24,
   "id": "6c92c079-d395-4f5e-8f3e-98b583cf5fc4",
   "metadata": {
    "tags": []
   },
   "outputs": [
    {
     "name": "stdout",
     "output_type": "stream",
     "text": [
      "1/1 [==============================] - 0s 212ms/step\n",
      "1/1 [==============================] - 0s 209ms/step\n",
      "1/1 [==============================] - 0s 197ms/step\n",
      "1/1 [==============================] - 0s 200ms/step\n",
      "1/1 [==============================] - 0s 207ms/step\n",
      "1/1 [==============================] - 0s 205ms/step\n",
      "1/1 [==============================] - 0s 194ms/step\n",
      "1/1 [==============================] - 0s 199ms/step\n",
      "1/1 [==============================] - 0s 202ms/step\n",
      "1/1 [==============================] - 0s 196ms/step\n",
      "1/1 [==============================] - 0s 233ms/step\n",
      "1/1 [==============================] - 0s 234ms/step\n",
      "1/1 [==============================] - 0s 194ms/step\n",
      "1/1 [==============================] - 0s 187ms/step\n",
      "1/1 [==============================] - 0s 194ms/step\n",
      "1/1 [==============================] - 0s 198ms/step\n",
      "1/1 [==============================] - 0s 193ms/step\n",
      "1/1 [==============================] - 0s 196ms/step\n",
      "1/1 [==============================] - 0s 200ms/step\n",
      "1/1 [==============================] - 0s 195ms/step\n",
      "1/1 [==============================] - 0s 197ms/step\n",
      "1/1 [==============================] - 0s 194ms/step\n",
      "1/1 [==============================] - 0s 202ms/step\n",
      "1/1 [==============================] - 0s 195ms/step\n",
      "1/1 [==============================] - 0s 201ms/step\n",
      "1/1 [==============================] - 0s 204ms/step\n",
      "1/1 [==============================] - 0s 237ms/step\n",
      "1/1 [==============================] - 0s 239ms/step\n",
      "1/1 [==============================] - 0s 198ms/step\n",
      "1/1 [==============================] - 0s 194ms/step\n",
      "1/1 [==============================] - 0s 197ms/step\n",
      "1/1 [==============================] - 0s 199ms/step\n",
      "1/1 [==============================] - 0s 200ms/step\n",
      "1/1 [==============================] - 0s 195ms/step\n",
      "1/1 [==============================] - 0s 198ms/step\n",
      "1/1 [==============================] - 0s 194ms/step\n",
      "1/1 [==============================] - 0s 200ms/step\n",
      "1/1 [==============================] - 0s 194ms/step\n",
      "1/1 [==============================] - 0s 198ms/step\n",
      "1/1 [==============================] - 0s 197ms/step\n",
      "1/1 [==============================] - 0s 205ms/step\n",
      "1/1 [==============================] - 0s 200ms/step\n",
      "1/1 [==============================] - 0s 244ms/step\n",
      "1/1 [==============================] - 0s 192ms/step\n",
      "1/1 [==============================] - 0s 200ms/step\n",
      "1/1 [==============================] - 0s 196ms/step\n",
      "1/1 [==============================] - 0s 196ms/step\n",
      "1/1 [==============================] - 0s 195ms/step\n",
      "1/1 [==============================] - 0s 196ms/step\n",
      "1/1 [==============================] - 0s 195ms/step\n",
      "1/1 [==============================] - 0s 197ms/step\n",
      "1/1 [==============================] - 0s 204ms/step\n",
      "1/1 [==============================] - 0s 201ms/step\n",
      "1/1 [==============================] - 0s 191ms/step\n",
      "1/1 [==============================] - 0s 200ms/step\n",
      "1/1 [==============================] - 0s 204ms/step\n",
      "1/1 [==============================] - 0s 201ms/step\n",
      "1/1 [==============================] - 0s 192ms/step\n",
      "1/1 [==============================] - 0s 194ms/step\n",
      "1/1 [==============================] - 0s 199ms/step\n",
      "1/1 [==============================] - 0s 205ms/step\n",
      "1/1 [==============================] - 0s 202ms/step\n",
      "1/1 [==============================] - 0s 198ms/step\n",
      "1/1 [==============================] - 0s 202ms/step\n",
      "1/1 [==============================] - 0s 199ms/step\n",
      "1/1 [==============================] - 0s 193ms/step\n",
      "1/1 [==============================] - 0s 195ms/step\n",
      "1/1 [==============================] - 0s 202ms/step\n",
      "1/1 [==============================] - 0s 204ms/step\n",
      "1/1 [==============================] - 0s 194ms/step\n",
      "1/1 [==============================] - 0s 191ms/step\n",
      "1/1 [==============================] - 0s 199ms/step\n",
      "Representations stored in  ../../data/DigiFace/subjects_0-1999_72_imgs/18 / representations_vgg_face.pkl  file. Please delete this file when you add new identities in your database.\n",
      "1/1 [==============================] - 0s 214ms/step\n",
      "find function lasts  18.204442739486694  seconds\n"
     ]
    }
   ],
   "source": [
    "df = _DeepFace.find(img_path = \"../../data/DigiFace/subjects_0-1999_72_imgs/0/0.png\", \n",
    "                    db_path = \"../../data/DigiFace/subjects_0-1999_72_imgs/18\",\n",
    "                    enforce_detection=False\n",
    ")"
   ]
  },
  {
   "cell_type": "markdown",
   "id": "a80de20b-583a-4f16-80b0-b059e7fac55f",
   "metadata": {},
   "source": [
    "### Functions for psych study"
   ]
  },
  {
   "cell_type": "code",
   "execution_count": 2,
   "id": "f2a293de-45f0-4ac7-a4c5-f9732741a09b",
   "metadata": {},
   "outputs": [],
   "source": [
    "def dbAnalysis(dbPath = \"../../data/DigiFace/\"):\n",
    "    pass\n",
    "\n",
    "\n",
    "\n",
    "def findImageDirectories(dir=\"./data/DigiFace/\") :\n",
    "    uniqueFaces = {}\n",
    "    for root, dirs, files in _os.walk(dir):\n",
    "        for dir in dirs :\n",
    "            if dir.find(\"subjects\") == -1 :\n",
    "                uniqueFaces[int(dir)] = root+\"/\"+dir+\"/\"\n",
    "                \n",
    "    return uniqueFaces\n",
    "\n",
    "def findImagesInDirectory(dir=\"./data/DigiFace/subjects_0-1999_72_imgs/0/\", imageExtension=\"png\"):\n",
    "    uniqueFiles = {}\n",
    "    for root, dirs, files in _os.walk(dir):\n",
    "        for file in files :\n",
    "            if file.find(imageExtension) != -1 :\n",
    "                uniqueFiles[int(file[0:file.find(imageExtension)-1])] = root+\"/\"+file\n",
    "                \n",
    "    return uniqueFiles\n",
    "\n",
    "def similarityAnalysis(dir=\"./data/DigiFace/\", nComparisons = 10, nImages = 1) :\n",
    "    imageDirs = findImageDirectories(dir)\n",
    "    results = []\n",
    "    \n",
    "    iComparisons = 0 \n",
    "    \n",
    "    for imageDir1 in imageDirs :\n",
    "        for imageDir2 in imageDirs :\n",
    "            if imageDir1 == imageDir2 :\n",
    "                continue\n",
    "                \n",
    "            images1 = findImagesInDirectory(imageDirs[imageDir1])\n",
    "            images2 = findImagesInDirectory(imageDirs[imageDir2])\n",
    "            \n",
    "            print(imageDir1,imageDir2)\n",
    "            iImages = 0 \n",
    "            for image1 in images1:\n",
    "                for image2 in images2:\n",
    "                    \n",
    "                    dfvr = _DeepFace.verify(images1[image1],images2[image2],enforce_detection=False,prog_bar=False);\n",
    "                    print(dfvr['distance'])\n",
    "                    results.append([imageDir1,image1,imageDir2,image2,dfvr['distance']])\n",
    "                    \n",
    "                    print((imageDir1,image1,imageDir2,image2),dfvr['distance'])\n",
    "                    iImages += 1 \n",
    "                    if iImages >= nImages:\n",
    "                        break\n",
    "                if iImages >= nImages:\n",
    "                    break\n",
    "            \n",
    "            iComparisons += 1 \n",
    "            \n",
    "            if iComparisons >= nComparisons :\n",
    "                break\n",
    "        if iComparisons >= nComparisons :\n",
    "            break\n",
    "            \n",
    "    return results"
   ]
  },
  {
   "cell_type": "code",
   "execution_count": 3,
   "id": "43f8b261-6865-42be-bcb0-276376956418",
   "metadata": {},
   "outputs": [],
   "source": [
    "def samePerson(dir=\"./data/DigiFace/subjects_0-1999_72_imgs/1\") :\n",
    "    \n",
    "    distances = []\n",
    "    for root, dirs, files in _os.walk(dir):\n",
    "        \n",
    "        combins = combinations(files,2)\n",
    "        \n",
    "        icombins = 0\n",
    "        for c in combins :\n",
    "            icombins += 1\n",
    "            dfvr = _DeepFace.verify(dir+\"/\"+c[0],dir+\"/\"+c[1],enforce_detection=False,prog_bar=False);\n",
    "            distances.append(dfvr['distance'])\n",
    "            \n",
    "    return distances"
   ]
  },
  {
   "cell_type": "code",
   "execution_count": 36,
   "id": "03e40555-cd63-4a9f-be2c-5259f134e628",
   "metadata": {},
   "outputs": [],
   "source": [
    "%%capture\n",
    "\n",
    "#d = findImageDirectories(\"./data/DigiFace/\")\n",
    "#f = findImagesInDirectory(d[0])\n",
    "r = similarityAnalysis(\"./data/DigiFace/subjects_0-1999_72_imgs/\",nComparisons=10000,nImages=1)"
   ]
  },
  {
   "cell_type": "code",
   "execution_count": 35,
   "id": "1de5bf84-c7b3-46b1-8eb8-6a236c92eb7e",
   "metadata": {},
   "outputs": [
    {
     "data": {
      "text/plain": [
       "(array([  1.,   2.,   2.,   6.,  16.,  30.,  52.,  80., 103., 183., 208.,\n",
       "        224., 253., 213., 196., 156.,  89.,  72.,  52.,  34.,  20.,   3.,\n",
       "          4.,   0.,   0.,   0.,   0.,   0.,   0.,   1.]),\n",
       " array([0.21803666, 0.24158048, 0.26512431, 0.28866813, 0.31221196,\n",
       "        0.33575578, 0.35929961, 0.38284343, 0.40638726, 0.42993108,\n",
       "        0.45347491, 0.47701873, 0.50056256, 0.52410638, 0.54765021,\n",
       "        0.57119403, 0.59473786, 0.61828168, 0.64182551, 0.66536933,\n",
       "        0.68891316, 0.71245698, 0.73600081, 0.75954463, 0.78308846,\n",
       "        0.80663228, 0.83017611, 0.85371994, 0.87726376, 0.90080759,\n",
       "        0.92435141]),\n",
       " <BarContainer object of 30 artists>)"
      ]
     },
     "execution_count": 35,
     "metadata": {},
     "output_type": "execute_result"
    },
    {
     "data": {
      "image/png": "[encoded data removed]",
      "text/plain": [
       "<Figure size 640x480 with 1 Axes>"
      ]
     },
     "metadata": {},
     "output_type": "display_data"
    }
   ],
   "source": [
    "import numpy as _np\n",
    "r = _np.array(r)\n",
    "_plt.hist(r[:,4],30)"
   ]
  },
  {
   "cell_type": "code",
   "execution_count": 17,
   "id": "539d7c36-9413-4fbf-892e-c36f05882420",
   "metadata": {},
   "outputs": [
    {
     "data": {
      "text/plain": [
       "(array([  1.,   0.,   3.,   4.,  12.,  15.,  21.,  35.,  58.,  56.,  73.,\n",
       "         88.,  82., 118., 125., 111., 111., 146., 112.,  90., 150., 107.,\n",
       "        100., 104.,  83.,  72.,  78.,  66.,  79.,  69.,  47.,  51.,  55.,\n",
       "         34.,  37.,  32.,  28.,  24.,  17.,  14.,  11.,  12.,   6.,   9.,\n",
       "          2.,   2.,   2.,   2.,   1.,   1.]),\n",
       " array([0.03680133, 0.04793346, 0.05906559, 0.07019771, 0.08132984,\n",
       "        0.09246196, 0.10359409, 0.11472622, 0.12585834, 0.13699047,\n",
       "        0.1481226 , 0.15925472, 0.17038685, 0.18151898, 0.1926511 ,\n",
       "        0.20378323, 0.21491535, 0.22604748, 0.23717961, 0.24831173,\n",
       "        0.25944386, 0.27057599, 0.28170811, 0.29284024, 0.30397237,\n",
       "        0.31510449, 0.32623662, 0.33736874, 0.34850087, 0.359633  ,\n",
       "        0.37076512, 0.38189725, 0.39302938, 0.4041615 , 0.41529363,\n",
       "        0.42642576, 0.43755788, 0.44869001, 0.45982213, 0.47095426,\n",
       "        0.48208639, 0.49321851, 0.50435064, 0.51548277, 0.52661489,\n",
       "        0.53774702, 0.54887914, 0.56001127, 0.5711434 , 0.58227552,\n",
       "        0.59340765]),\n",
       " <BarContainer object of 50 artists>)"
      ]
     },
     "execution_count": 17,
     "metadata": {},
     "output_type": "execute_result"
    },
    {
     "data": {
      "image/png": "[encoded data removed]",
      "text/plain": [
       "<Figure size 640x480 with 1 Axes>"
      ]
     },
     "metadata": {},
     "output_type": "display_data"
    }
   ],
   "source": [
    "%%capture\n",
    "d = samePerson();\n",
    "_plt.hist(d,50)"
   ]
  },
  {
   "cell_type": "code",
   "execution_count": 13,
   "id": "7373a549-a607-43c7-aa5a-de43b5b764e2",
   "metadata": {},
   "outputs": [
    {
     "name": "stdout",
     "output_type": "stream",
     "text": [
      "1/1 [==============================] - 0s 152ms/step\n",
      "1/1 [==============================] - 0s 176ms/step\n"
     ]
    },
    {
     "data": {
      "text/plain": [
       "{'verified': False,\n",
       " 'distance': 0.4756669905648472,\n",
       " 'threshold': 0.4,\n",
       " 'model': 'VGG-Face',\n",
       " 'detector_backend': 'opencv',\n",
       " 'similarity_metric': 'cosine'}"
      ]
     },
     "execution_count": 13,
     "metadata": {},
     "output_type": "execute_result"
    }
   ],
   "source": [
    "_DeepFace.verify(\"./data/DigiFace/subjects_0-1999_72_imgs/0/0.png\",\"./data/DigiFace/subjects_0-1999_72_imgs/0/5.png\",enforce_detection=False,prog_bar=False)"
   ]
  },
  {
   "cell_type": "code",
   "execution_count": 6,
   "id": "257c5c7e-dafe-4759-b40a-7598e83bbb10",
   "metadata": {
    "collapsed": true,
    "jupyter": {
     "outputs_hidden": true
    },
    "tags": []
   },
   "outputs": [
    {
     "data": {
      "text/plain": [
       "\u001b[0;31mSignature:\u001b[0m\n",
       "\u001b[0m_DeepFace\u001b[0m\u001b[0;34m.\u001b[0m\u001b[0manalyze\u001b[0m\u001b[0;34m(\u001b[0m\u001b[0;34m\u001b[0m\n",
       "\u001b[0;34m\u001b[0m    \u001b[0mimg_path\u001b[0m\u001b[0;34m,\u001b[0m\u001b[0;34m\u001b[0m\n",
       "\u001b[0;34m\u001b[0m    \u001b[0mactions\u001b[0m\u001b[0;34m=\u001b[0m\u001b[0;34m(\u001b[0m\u001b[0;34m'emotion'\u001b[0m\u001b[0;34m,\u001b[0m \u001b[0;34m'age'\u001b[0m\u001b[0;34m,\u001b[0m \u001b[0;34m'gender'\u001b[0m\u001b[0;34m,\u001b[0m \u001b[0;34m'race'\u001b[0m\u001b[0;34m)\u001b[0m\u001b[0;34m,\u001b[0m\u001b[0;34m\u001b[0m\n",
       "\u001b[0;34m\u001b[0m    \u001b[0mmodels\u001b[0m\u001b[0;34m=\u001b[0m\u001b[0;32mNone\u001b[0m\u001b[0;34m,\u001b[0m\u001b[0;34m\u001b[0m\n",
       "\u001b[0;34m\u001b[0m    \u001b[0menforce_detection\u001b[0m\u001b[0;34m=\u001b[0m\u001b[0;32mTrue\u001b[0m\u001b[0;34m,\u001b[0m\u001b[0;34m\u001b[0m\n",
       "\u001b[0;34m\u001b[0m    \u001b[0mdetector_backend\u001b[0m\u001b[0;34m=\u001b[0m\u001b[0;34m'opencv'\u001b[0m\u001b[0;34m,\u001b[0m\u001b[0;34m\u001b[0m\n",
       "\u001b[0;34m\u001b[0m    \u001b[0mprog_bar\u001b[0m\u001b[0;34m=\u001b[0m\u001b[0;32mTrue\u001b[0m\u001b[0;34m,\u001b[0m\u001b[0;34m\u001b[0m\n",
       "\u001b[0;34m\u001b[0m\u001b[0;34m)\u001b[0m\u001b[0;34m\u001b[0m\u001b[0;34m\u001b[0m\u001b[0m\n",
       "\u001b[0;31mDocstring:\u001b[0m\n",
       "This function analyzes facial attributes including age, gender, emotion and race\n",
       "\n",
       "Parameters:\n",
       "        img_path: exact image path, numpy array (BGR) or base64 encoded image could be passed. If you are going to analyze lots of images, then set this to list. e.g. img_path = ['img1.jpg', 'img2.jpg']\n",
       "\n",
       "        actions (tuple): The default is ('age', 'gender', 'emotion', 'race'). You can drop some of those attributes.\n",
       "\n",
       "        models: (Optional[dict]) facial attribute analysis models are built in every call of analyze function. You can pass pre-built models to speed the function up.\n",
       "\n",
       "                models = {}\n",
       "                models['age'] = DeepFace.build_model('Age')\n",
       "                models['gender'] = DeepFace.build_model('Gender')\n",
       "                models['emotion'] = DeepFace.build_model('Emotion')\n",
       "                models['race'] = DeepFace.build_model('Race')\n",
       "\n",
       "        enforce_detection (boolean): The function throws exception if a face could not be detected. Set this to True if you don't want to get exception. This might be convenient for low resolution images.\n",
       "\n",
       "        detector_backend (string): set face detector backend as retinaface, mtcnn, opencv, ssd or dlib.\n",
       "\n",
       "        prog_bar (boolean): enable/disable a progress bar\n",
       "Returns:\n",
       "        The function returns a dictionary. If img_path is a list, then it will return list of dictionary.\n",
       "\n",
       "        {\n",
       "                \"region\": {'x': 230, 'y': 120, 'w': 36, 'h': 45},\n",
       "                \"age\": 28.66,\n",
       "                \"gender\": \"woman\",\n",
       "                \"dominant_emotion\": \"neutral\",\n",
       "                \"emotion\": {\n",
       "                        'sad': 37.65260875225067,\n",
       "                        'angry': 0.15512987738475204,\n",
       "                        'surprise': 0.0022171278033056296,\n",
       "                        'fear': 1.2489334680140018,\n",
       "                        'happy': 4.609785228967667,\n",
       "                        'disgust': 9.698561953541684e-07,\n",
       "                        'neutral': 56.33133053779602\n",
       "                }\n",
       "                \"dominant_race\": \"white\",\n",
       "                \"race\": {\n",
       "                        'indian': 0.5480832420289516,\n",
       "                        'asian': 0.7830780930817127,\n",
       "                        'latino hispanic': 2.0677512511610985,\n",
       "                        'black': 0.06337375962175429,\n",
       "                        'middle eastern': 3.088453598320484,\n",
       "                        'white': 93.44925880432129\n",
       "                }\n",
       "        }\n",
       "\u001b[0;31mFile:\u001b[0m      ~/VirtualEnvs/python310/lib/python3.10/site-packages/deepface/DeepFace.py\n",
       "\u001b[0;31mType:\u001b[0m      function\n"
      ]
     },
     "metadata": {},
     "output_type": "display_data"
    }
   ],
   "source": [
    "_DeepFace.analyze?"
   ]
  },
  {
   "cell_type": "code",
   "execution_count": null,
   "id": "df1d3249-35cc-4358-9904-336b9f475ce5",
   "metadata": {},
   "outputs": [],
   "source": []
  }
 ],
 "metadata": {
  "kernelspec": {
   "display_name": "Python 3 (ipykernel)",
   "language": "python",
   "name": "python3"
  },
  "language_info": {
   "codemirror_mode": {
    "name": "ipython",
    "version": 3
   },
   "file_extension": ".py",
   "mimetype": "text/x-python",
   "name": "python",
   "nbconvert_exporter": "python",
   "pygments_lexer": "ipython3",
   "version": "3.10.9"
  }
 },
 "nbformat": 4,
 "nbformat_minor": 5
}
